{
  "nbformat": 4,
  "nbformat_minor": 0,
  "metadata": {
    "colab": {
      "provenance": []
    },
    "kernelspec": {
      "name": "python3",
      "display_name": "Python 3"
    },
    "language_info": {
      "name": "python"
    }
  },
  "cells": [
    {
      "cell_type": "code",
      "execution_count": 43,
      "metadata": {
        "colab": {
          "base_uri": "https://localhost:8080/"
        },
        "id": "pnPMZ-z7TrhT",
        "outputId": "7d2b6ded-c63b-4620-ccb7-48521a49ebd9"
      },
      "outputs": [
        {
          "output_type": "stream",
          "name": "stdout",
          "text": [
            "False\n",
            "False\n",
            "Tensor(\"Const_86:0\", shape=(), dtype=int32)\n",
            "Tensor(\"Const_87:0\", shape=(), dtype=int32)\n",
            "Tensor(\"add_37:0\", shape=(), dtype=int32)\n",
            "1\n",
            "2\n",
            "3\n"
          ]
        }
      ],
      "source": [
        "# 0301.py\n",
        "from tensorflow.python.framework.ops import disable_eager_execution\n",
        "import tensorflow as tf\n",
        "\n",
        "print(tf.executing_eagerly())\n",
        "# disable_eager_execution()\n",
        "print(tf.executing_eagerly())\n",
        "\n",
        "# Graph construction\n",
        "a = tf.constant(1)\n",
        "b = tf.constant(2)\n",
        "c = a + b  # c= tf.add(a, b)\n",
        "print(a)\n",
        "print(b)\n",
        "print(c)\n",
        " \n",
        "\n",
        "#2 graph execution\n",
        "sess = tf.compat.v1.Session()\n",
        "print(sess.run(a))\n",
        "print(sess.run(b))\n",
        "print(sess.run(c))\n",
        "sess.close()"
      ]
    },
    {
      "cell_type": "code",
      "source": [
        "# 0302.py\n",
        "from tensorflow.python.framework.ops import enable_eager_execution\n",
        "\n",
        "# enable_eager_execution()\n",
        "import tensorflow as tf\n",
        "print(tf.executing_eagerly())\n",
        "\n",
        "a = tf.constant(1)\n",
        "b = tf.constant(2)\n",
        "c = a + b   # c= tf.add(a, b)\n",
        "print(a)\n",
        "print(b)\n",
        "print(c)\n",
        "print(a.numpy(), b.numpy(), c.numpy())"
      ],
      "metadata": {
        "colab": {
          "base_uri": "https://localhost:8080/",
          "height": 394
        },
        "id": "ZxGJbkBKVM8q",
        "outputId": "e49c7c52-98fa-46d7-8e75-0dda2eb628e5"
      },
      "execution_count": 46,
      "outputs": [
        {
          "output_type": "stream",
          "name": "stdout",
          "text": [
            "Tensor(\"Const_93:0\", shape=(), dtype=int32)\n",
            "Tensor(\"Const_94:0\", shape=(), dtype=int32)\n",
            "Tensor(\"add_39:0\", shape=(), dtype=int32)\n"
          ]
        },
        {
          "output_type": "error",
          "ename": "AttributeError",
          "evalue": "ignored",
          "traceback": [
            "\u001b[0;31m---------------------------------------------------------------------------\u001b[0m",
            "\u001b[0;31mAttributeError\u001b[0m                            Traceback (most recent call last)",
            "\u001b[0;32m<ipython-input-46-59c260db26c5>\u001b[0m in \u001b[0;36m<cell line: 13>\u001b[0;34m()\u001b[0m\n\u001b[1;32m     11\u001b[0m \u001b[0mprint\u001b[0m\u001b[0;34m(\u001b[0m\u001b[0mb\u001b[0m\u001b[0;34m)\u001b[0m\u001b[0;34m\u001b[0m\u001b[0;34m\u001b[0m\u001b[0m\n\u001b[1;32m     12\u001b[0m \u001b[0mprint\u001b[0m\u001b[0;34m(\u001b[0m\u001b[0mc\u001b[0m\u001b[0;34m)\u001b[0m\u001b[0;34m\u001b[0m\u001b[0;34m\u001b[0m\u001b[0m\n\u001b[0;32m---> 13\u001b[0;31m \u001b[0mprint\u001b[0m\u001b[0;34m(\u001b[0m\u001b[0ma\u001b[0m\u001b[0;34m.\u001b[0m\u001b[0mnumpy\u001b[0m\u001b[0;34m(\u001b[0m\u001b[0;34m)\u001b[0m\u001b[0;34m,\u001b[0m \u001b[0mb\u001b[0m\u001b[0;34m.\u001b[0m\u001b[0mnumpy\u001b[0m\u001b[0;34m(\u001b[0m\u001b[0;34m)\u001b[0m\u001b[0;34m,\u001b[0m \u001b[0mc\u001b[0m\u001b[0;34m.\u001b[0m\u001b[0mnumpy\u001b[0m\u001b[0;34m(\u001b[0m\u001b[0;34m)\u001b[0m\u001b[0;34m)\u001b[0m\u001b[0;34m\u001b[0m\u001b[0;34m\u001b[0m\u001b[0m\n\u001b[0m",
            "\u001b[0;32m/usr/local/lib/python3.9/dist-packages/tensorflow/python/framework/ops.py\u001b[0m in \u001b[0;36m__getattr__\u001b[0;34m(self, name)\u001b[0m\n\u001b[1;32m    441\u001b[0m         \u001b[0mnp_config\u001b[0m\u001b[0;34m.\u001b[0m\u001b[0menable_numpy_behavior\u001b[0m\u001b[0;34m(\u001b[0m\u001b[0;34m)\u001b[0m\u001b[0;34m\u001b[0m\u001b[0;34m\u001b[0m\u001b[0m\n\u001b[1;32m    442\u001b[0m       \"\"\")\n\u001b[0;32m--> 443\u001b[0;31m     \u001b[0mself\u001b[0m\u001b[0;34m.\u001b[0m\u001b[0m__getattribute__\u001b[0m\u001b[0;34m(\u001b[0m\u001b[0mname\u001b[0m\u001b[0;34m)\u001b[0m\u001b[0;34m\u001b[0m\u001b[0;34m\u001b[0m\u001b[0m\n\u001b[0m\u001b[1;32m    444\u001b[0m \u001b[0;34m\u001b[0m\u001b[0m\n\u001b[1;32m    445\u001b[0m   \u001b[0;34m@\u001b[0m\u001b[0mstaticmethod\u001b[0m\u001b[0;34m\u001b[0m\u001b[0;34m\u001b[0m\u001b[0m\n",
            "\u001b[0;31mAttributeError\u001b[0m: 'Tensor' object has no attribute 'numpy'"
          ]
        }
      ]
    },
    {
      "cell_type": "code",
      "source": [
        "# 0303.py\n",
        "import tensorflow as tf\n",
        "#1\n",
        "a = tf.constant(1)\n",
        "b = tf.constant([1, 2, 3, 4])\n",
        "c = tf.constant([[1, 2], [3, 4]])\n",
        "d = tf.constant([[[1, 2], [3, 4]]])\n",
        "\n",
        "#2\n",
        "print(a)\n",
        "print(a.dtype)\n",
        "print(a.ndim, b.ndim, c.ndim, d.ndim)\n",
        "print(a.shape, b.shape, c.shape, d.shape)\n",
        "\n",
        "#3: indexing, slicing\n",
        "print(b[0])\n",
        "print(b[:2])\n",
        "print(c[0, 0])\n",
        "print(c[:,0])"
      ],
      "metadata": {
        "id": "Srt-WcibXMwp",
        "outputId": "6b300ef6-4662-4b8d-8591-758d01acded7",
        "colab": {
          "base_uri": "https://localhost:8080/",
          "height": 413
        }
      },
      "execution_count": 34,
      "outputs": [
        {
          "output_type": "stream",
          "name": "stdout",
          "text": [
            "Tensor(\"Const_66:0\", shape=(), dtype=int32)\n",
            "<dtype: 'int32'>\n"
          ]
        },
        {
          "output_type": "error",
          "ename": "AttributeError",
          "evalue": "ignored",
          "traceback": [
            "\u001b[0;31m---------------------------------------------------------------------------\u001b[0m",
            "\u001b[0;31mAttributeError\u001b[0m                            Traceback (most recent call last)",
            "\u001b[0;32m<ipython-input-34-09ba7c2defec>\u001b[0m in \u001b[0;36m<cell line: 12>\u001b[0;34m()\u001b[0m\n\u001b[1;32m     10\u001b[0m \u001b[0mprint\u001b[0m\u001b[0;34m(\u001b[0m\u001b[0ma\u001b[0m\u001b[0;34m)\u001b[0m\u001b[0;34m\u001b[0m\u001b[0;34m\u001b[0m\u001b[0m\n\u001b[1;32m     11\u001b[0m \u001b[0mprint\u001b[0m\u001b[0;34m(\u001b[0m\u001b[0ma\u001b[0m\u001b[0;34m.\u001b[0m\u001b[0mdtype\u001b[0m\u001b[0;34m)\u001b[0m\u001b[0;34m\u001b[0m\u001b[0;34m\u001b[0m\u001b[0m\n\u001b[0;32m---> 12\u001b[0;31m \u001b[0mprint\u001b[0m\u001b[0;34m(\u001b[0m\u001b[0ma\u001b[0m\u001b[0;34m.\u001b[0m\u001b[0mndim\u001b[0m\u001b[0;34m,\u001b[0m \u001b[0mb\u001b[0m\u001b[0;34m.\u001b[0m\u001b[0mndim\u001b[0m\u001b[0;34m,\u001b[0m \u001b[0mc\u001b[0m\u001b[0;34m.\u001b[0m\u001b[0mndim\u001b[0m\u001b[0;34m,\u001b[0m \u001b[0md\u001b[0m\u001b[0;34m.\u001b[0m\u001b[0mndim\u001b[0m\u001b[0;34m)\u001b[0m\u001b[0;34m\u001b[0m\u001b[0;34m\u001b[0m\u001b[0m\n\u001b[0m\u001b[1;32m     13\u001b[0m \u001b[0mprint\u001b[0m\u001b[0;34m(\u001b[0m\u001b[0ma\u001b[0m\u001b[0;34m.\u001b[0m\u001b[0mshape\u001b[0m\u001b[0;34m,\u001b[0m \u001b[0mb\u001b[0m\u001b[0;34m.\u001b[0m\u001b[0mshape\u001b[0m\u001b[0;34m,\u001b[0m \u001b[0mc\u001b[0m\u001b[0;34m.\u001b[0m\u001b[0mshape\u001b[0m\u001b[0;34m,\u001b[0m \u001b[0md\u001b[0m\u001b[0;34m.\u001b[0m\u001b[0mshape\u001b[0m\u001b[0;34m)\u001b[0m\u001b[0;34m\u001b[0m\u001b[0;34m\u001b[0m\u001b[0m\n\u001b[1;32m     14\u001b[0m \u001b[0;34m\u001b[0m\u001b[0m\n",
            "\u001b[0;32m/usr/local/lib/python3.9/dist-packages/tensorflow/python/framework/ops.py\u001b[0m in \u001b[0;36m__getattr__\u001b[0;34m(self, name)\u001b[0m\n\u001b[1;32m    441\u001b[0m         \u001b[0mnp_config\u001b[0m\u001b[0;34m.\u001b[0m\u001b[0menable_numpy_behavior\u001b[0m\u001b[0;34m(\u001b[0m\u001b[0;34m)\u001b[0m\u001b[0;34m\u001b[0m\u001b[0;34m\u001b[0m\u001b[0m\n\u001b[1;32m    442\u001b[0m       \"\"\")\n\u001b[0;32m--> 443\u001b[0;31m     \u001b[0mself\u001b[0m\u001b[0;34m.\u001b[0m\u001b[0m__getattribute__\u001b[0m\u001b[0;34m(\u001b[0m\u001b[0mname\u001b[0m\u001b[0;34m)\u001b[0m\u001b[0;34m\u001b[0m\u001b[0;34m\u001b[0m\u001b[0m\n\u001b[0m\u001b[1;32m    444\u001b[0m \u001b[0;34m\u001b[0m\u001b[0m\n\u001b[1;32m    445\u001b[0m   \u001b[0;34m@\u001b[0m\u001b[0mstaticmethod\u001b[0m\u001b[0;34m\u001b[0m\u001b[0;34m\u001b[0m\u001b[0m\n",
            "\u001b[0;31mAttributeError\u001b[0m: 'Tensor' object has no attribute 'ndim'"
          ]
        }
      ]
    },
    {
      "cell_type": "code",
      "source": [
        "# 0304.py\n",
        "import tensorflow as tf\n",
        "#1\n",
        "a = tf.Variable(1)\n",
        "b = tf.Variable([1, 2, 3, 4])\n",
        "c = tf.Variable([[1, 2], [3, 4]])\n",
        "d = tf.Variable([[[1, 2], [3, 4]]])\n",
        "print(a.dtype)\n",
        "print(a.shape, b.shape, c.shape, d.shape)\n",
        " \n",
        "#2\n",
        "print(a)\n",
        "print(a.read_value()) # a.value()\n",
        "print(a.trainable)\n",
        "\n",
        "#3: indexing, slicing\n",
        "print(b[0])\n",
        "print(b[:2])\n",
        "print(c[0, 0])\n",
        "print(c[:,0])\n",
        "\n",
        "#4: assign(), assign_add(), assign_sub()\n",
        "print(id(a))\n",
        "print(a.assign(10)) # a.assign(20, read_value=False) : no return\n",
        "print(a.assign_add(20))\n",
        "print(a.assign_sub(10))\n",
        "print(id(a))"
      ],
      "metadata": {
        "colab": {
          "base_uri": "https://localhost:8080/"
        },
        "id": "GWtBcDjJZH3Q",
        "outputId": "d3b33adb-8db0-4be4-c0ff-7ad487f9e5cf"
      },
      "execution_count": 45,
      "outputs": [
        {
          "output_type": "stream",
          "name": "stdout",
          "text": [
            "<dtype: 'int32'>\n",
            "() (4,) (2, 2) (1, 2, 2)\n",
            "<tf.Variable 'Variable:0' shape=() dtype=int32>\n",
            "Tensor(\"Identity:0\", shape=(), dtype=int32)\n",
            "True\n",
            "Tensor(\"strided_slice:0\", shape=(), dtype=int32)\n",
            "Tensor(\"strided_slice_1:0\", shape=(2,), dtype=int32)\n",
            "Tensor(\"strided_slice_2:0\", shape=(), dtype=int32)\n",
            "Tensor(\"strided_slice_3:0\", shape=(2,), dtype=int32)\n",
            "140639579839504\n",
            "<tf.Variable 'AssignVariableOp' shape=() dtype=int32>\n",
            "<tf.Variable 'AssignAddVariableOp' shape=() dtype=int32>\n",
            "<tf.Variable 'AssignSubVariableOp' shape=() dtype=int32>\n",
            "140639579839504\n"
          ]
        }
      ]
    },
    {
      "cell_type": "code",
      "source": [
        "# 0305.py\n",
        "import tensorflow as tf\n",
        "\n",
        "a = tf.zeros(shape = (2, 3)) # dtype = tf.float32\n",
        "print(a)\n",
        "\n",
        "b = tf.ones(shape = (2, 3))\n",
        "print(b)\n",
        "\n",
        "c = tf.zeros_like(b)\n",
        "print(c)\n",
        "\n",
        "d = tf.ones_like(c)\n",
        "print(d)\n",
        "\n",
        "w = tf.Variable( d )\n",
        "print(w)"
      ],
      "metadata": {
        "colab": {
          "base_uri": "https://localhost:8080/"
        },
        "id": "SZT1ghSAa4Tw",
        "outputId": "2863c85a-1f93-4846-d6d2-a9ee4e36d83f"
      },
      "execution_count": 47,
      "outputs": [
        {
          "output_type": "stream",
          "name": "stdout",
          "text": [
            "Tensor(\"zeros:0\", shape=(2, 3), dtype=float32)\n",
            "Tensor(\"ones:0\", shape=(2, 3), dtype=float32)\n",
            "Tensor(\"zeros_like:0\", shape=(2, 3), dtype=float32)\n",
            "Tensor(\"ones_like:0\", shape=(2, 3), dtype=float32)\n",
            "<tf.Variable 'Variable_4:0' shape=(2, 3) dtype=float32>\n"
          ]
        }
      ]
    },
    {
      "cell_type": "code",
      "source": [
        "# 0306.py\n",
        "import tensorflow as tf\n",
        "\n",
        "a= tf.fill([2, 3], 2.0)\n",
        "print(a)\n",
        "\n",
        "b = tf.linspace(0.0, 1.0, 5)\n",
        "print(b)\n",
        "\n",
        "c = tf.range(5)\n",
        "print(c)\n",
        "\n",
        "d = tf.range(1, 5, 0.5)\n",
        "print(d)\n",
        "\n",
        "w = tf.Variable(d)\n",
        "print(w)"
      ],
      "metadata": {
        "colab": {
          "base_uri": "https://localhost:8080/"
        },
        "id": "KIjEmCLDbAze",
        "outputId": "fa642052-a665-44fb-9df1-1927625fbc75"
      },
      "execution_count": 48,
      "outputs": [
        {
          "output_type": "stream",
          "name": "stdout",
          "text": [
            "Tensor(\"Fill:0\", shape=(2, 3), dtype=float32)\n",
            "Tensor(\"linspace/Slice:0\", shape=(5,), dtype=float32)\n",
            "Tensor(\"range:0\", shape=(5,), dtype=int32)\n",
            "Tensor(\"range_1:0\", shape=(8,), dtype=float32)\n",
            "<tf.Variable 'Variable_5:0' shape=(8,) dtype=float32>\n"
          ]
        }
      ]
    },
    {
      "cell_type": "code",
      "source": [
        "# 0307.py\n",
        "import tensorflow as tf\n",
        "#1\n",
        "a = tf.range(6)\n",
        "print(a)\n",
        "\n",
        "b = tf.reshape(a, shape=(2, 3)) # tf.reshape(a, shape=(-1, 3))\n",
        "print(b)\n",
        "\n",
        "c = tf.reshape(b, shape=(-1,))\n",
        "print(c)\n",
        "\n",
        "#2\n",
        "d = tf.transpose(b) # tf.transpose(b, perm=[1, 0])\n",
        "print(d)"
      ],
      "metadata": {
        "colab": {
          "base_uri": "https://localhost:8080/"
        },
        "id": "rzVnZnWcbCcl",
        "outputId": "d49c3b65-d637-4648-a1b1-531eec26b023"
      },
      "execution_count": 49,
      "outputs": [
        {
          "output_type": "stream",
          "name": "stdout",
          "text": [
            "Tensor(\"range_2:0\", shape=(6,), dtype=int32)\n",
            "Tensor(\"Reshape:0\", shape=(2, 3), dtype=int32)\n",
            "Tensor(\"Reshape_1:0\", shape=(6,), dtype=int32)\n",
            "Tensor(\"transpose:0\", shape=(3, 2), dtype=int32)\n"
          ]
        }
      ]
    },
    {
      "cell_type": "code",
      "source": [
        "# 0308.py\n",
        "import tensorflow as tf\n",
        "\n",
        "#1\n",
        "a = tf.constant([1, 2])  # [1, 2]\n",
        "b = tf.constant([3, 4])  # [3, 4]\n",
        "\n",
        "#2\n",
        "print(tf.stack([a, b])) # axis = 0\n",
        "print(tf.stack([a, b], axis = 1))\n",
        " \n",
        "#3\n",
        "print(tf.concat([a, b],axis =0))\n",
        "a = tf.reshape(a, shape=(1,2))\n",
        "b = tf.reshape(b, shape=(1,2))\n",
        "c = tf.concat([a, b],axis =0)\n",
        "print(c)\n",
        " \n",
        "print(tf.concat([a, b],axis =1))\n",
        "print(tf.concat([c, b],axis =0))\n",
        "\n",
        "b = tf.reshape(b, shape=(2,1))\n",
        "print(b)\n",
        "\n",
        "print(tf.concat([c, b],axis =1))"
      ],
      "metadata": {
        "colab": {
          "base_uri": "https://localhost:8080/"
        },
        "id": "5GmSRIyrbNRP",
        "outputId": "911b41b3-7ea3-47fc-b92b-872ecfb8ca96"
      },
      "execution_count": 50,
      "outputs": [
        {
          "output_type": "stream",
          "name": "stdout",
          "text": [
            "Tensor(\"stack:0\", shape=(2, 2), dtype=int32)\n",
            "Tensor(\"stack_1:0\", shape=(2, 2), dtype=int32)\n",
            "Tensor(\"concat:0\", shape=(4,), dtype=int32)\n",
            "Tensor(\"concat_1:0\", shape=(2, 2), dtype=int32)\n",
            "Tensor(\"concat_2:0\", shape=(1, 4), dtype=int32)\n",
            "Tensor(\"concat_3:0\", shape=(3, 2), dtype=int32)\n",
            "Tensor(\"Reshape_4:0\", shape=(2, 1), dtype=int32)\n",
            "Tensor(\"concat_4:0\", shape=(2, 3), dtype=int32)\n"
          ]
        }
      ]
    }
  ]
}